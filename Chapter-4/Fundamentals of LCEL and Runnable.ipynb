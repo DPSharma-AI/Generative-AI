{
 "cells": [
  {
   "cell_type": "markdown",
   "metadata": {},
   "source": [
    "#### Runnables in LangChain\n",
    "\n",
    "#### What Are Runnables in LangChain?\n",
    "- **Definition**: \n",
    "  A Runnable is an abstraction for components that perform a specific operation in a chain or pipeline. They are designed to work seamlessly with other components in LangChain.\n",
    "\n",
    "- **Key Features**:\n",
    "  1. **Composability**: \n",
    "     - Runnables can be combined (or chained) together to form larger workflows.\n",
    "     - Example: The output of one Runnable can be the input for the next.\n",
    "\n",
    "  2. **Execution via `invoke()`**:\n",
    "     - Every Runnable can be executed using the `invoke()` method.\n",
    "     - The method:\n",
    "       - Takes an **input** (e.g., a string or a dictionary).\n",
    "       - Processes it using the logic of the Runnable.\n",
    "       - Returns an **output**.\n",
    "---\n",
    "#### Examples of Runnables:\n",
    "1. **Prompt Templates**:\n",
    "   - Used to format prompts dynamically.\n",
    "   - Example: Filling in placeholders in a template.\n",
    "     ```python\n",
    "     prompt.invoke({\"input\": \"Hello\"})\n",
    "     ```\n",
    "\n",
    "2. **LLM Models**:\n",
    "   - Represent language models like OpenAI or Hugging Face.\n",
    "   - Example: Sending a query and receiving the model’s response.\n",
    "     ```python\n",
    "     llm.invoke(\"What is AI?\")\n",
    "     ```\n",
    "\n",
    "3. **Output Parsers**:\n",
    "   - Used to parse and structure the raw output of a model.\n",
    "   - Example: Converting a plain text response into JSON.\n",
    "     ```python\n",
    "     parser.invoke(\"Name: John, Age: 30\")\n",
    "     ```\n",
    "\n",
    "4. **Custom Functions**:\n",
    "   - Any user-defined logic wrapped in a Runnable.\n",
    "   - Example: Transforming or filtering input data.\n",
    "     ```python\n",
    "     custom_runnable.invoke(input_data)\n",
    "     ```\n",
    "---\n",
    "\n",
    "#### LangChain Expression Language\n",
    "**LangChain Expression Language** allows any two runnables to be “chained” together into sequences. The output of the previous runnable's .invoke() call is passed as input to the next runnable. This can be done using the pipe operator (|) or the more explicit .pipe() method, which performs the same function.\n",
    "\n",
    "We shall learn about 4 types of Runnables  \n",
    "\n",
    "**RunnablePassThrough:** Passes any input as it is to the next component in chain.</br>\n",
    "**RunnableLambda:** Allows to convert any Python function into runnable object which can then be used in chain.</br>\n",
    "**RunnableSequence:**  In a RunnableSequence, the output of each runnable serves as the input for the next runnable in the sequence.</br>\n",
    "**RunnableParallel:** Passes input to parallel paths simultaneously.</br>\n"
   ]
  },
  {
   "cell_type": "markdown",
   "metadata": {},
   "source": []
  },
  {
   "cell_type": "markdown",
   "metadata": {},
   "source": [
    "#### RunnablePassthrough\n",
    "* It does not do anything to the input data.\n",
    "* Let's see it in a very simple examples: a chain with just RunnablePassthrough() will output the original input without any modification."
   ]
  },
  {
   "cell_type": "code",
   "execution_count": 1,
   "metadata": {},
   "outputs": [
    {
     "name": "stdout",
     "output_type": "stream",
     "text": [
      "DP Sharma\n"
     ]
    }
   ],
   "source": [
    "# Example-1\n",
    "from langchain_core.runnables import RunnablePassthrough\n",
    "chain = RunnablePassthrough()\n",
    "chain = chain.invoke(\"DP Sharma\")  # Here input given is DP Sharma and the RunnablePassthrough passon as it is. so output of the programm will be DP Sharma.\n",
    "print(chain) # Wahtever input given same output\n",
    "# here you can thinklike   RunnablePassthrough().invoke(\"DP Sharma\") so input is \"DP Sharma \" and the output of the RunnablePassthrough is \"DP Sharma\". "
   ]
  },
  {
   "cell_type": "code",
   "execution_count": 2,
   "metadata": {},
   "outputs": [
    {
     "name": "stdout",
     "output_type": "stream",
     "text": [
      "Modified Output: Modified: Hello, Langchain!\n",
      "Original Output: Hello, Langchain!\n"
     ]
    }
   ],
   "source": [
    "# Example-2\n",
    "from langchain_core.runnables import RunnablePassthrough\n",
    "\n",
    "# Create a simple function to modify input\n",
    "def modify_input(input_data):\n",
    "    return f\"Modified: {input_data}\"\n",
    "\n",
    "# Initialize RunnablePassThrough, i.e creating the object of RunnablePassThrough\n",
    "pass_through = RunnablePassthrough()  # We can describe RunnablePassthrough as functioning like a placeholder for runtime input. It essentially allows you to pass the input data through unchanged\n",
    "\n",
    "# Input data\n",
    "input_data = \"Hello, Langchain!\"\n",
    "\n",
    "# Modify the input\n",
    "modified_output = modify_input(input_data)\n",
    "\n",
    "# Pass the original input through\n",
    "original_output = pass_through.invoke(input_data)\n",
    "\n",
    "# Print both outputs\n",
    "print(\"Modified Output:\", modified_output)\n",
    "print(\"Original Output:\", original_output)"
   ]
  },
  {
   "cell_type": "markdown",
   "metadata": {},
   "source": [
    "#### RunnableLambda\n",
    "* RunnableLambda can convert any normal Python function into a Runnable function that can be seamlessly used in LangChain workflows.\n",
    "* Let's define a very simple function to create Russian lastnames:"
   ]
  },
  {
   "cell_type": "code",
   "execution_count": 3,
   "metadata": {},
   "outputs": [
    {
     "data": {
      "text/plain": [
       "'DP Sharmaovich'"
      ]
     },
     "execution_count": 3,
     "metadata": {},
     "output_type": "execute_result"
    }
   ],
   "source": [
    "# Example-3\n",
    "from langchain_core.runnables import RunnableLambda,RunnablePassthrough\n",
    "def russian_lastname(name: str) -> str:\n",
    "    return f\"{name}ovich\"\n",
    "chain = RunnablePassthrough() | RunnableLambda(russian_lastname)\n",
    "chain.invoke(\"DP Sharma\")"
   ]
  },
  {
   "cell_type": "markdown",
   "metadata": {},
   "source": [
    "#### RunnableSequence\n",
    "* The RunnableSequence is used to chain multiple Runnables together, where the output of one Runnable becomes the input for the next.\n",
    "* RunnableSequence approach is beneficial for creating structured, readable, and maintainable workflows in your applications, allowing complex operations to be broken down into simple, composable parts. \n",
    "\n",
    "##### Visual O/p of below Programme\n",
    "Input: \"Alice\"  \n",
    "      |  \n",
    "      v  \n",
    "greet_runnable → \"Hello, Alice!\"  \n",
    "      |  \n",
    "      v  \n",
    "datetime_runnable → \"Hello, Alice! The current date and time is YYYY-MM-DD.\"  \n",
    "      |  \n",
    "      v  \n",
    "uppercase_runnable → \"HELLO, ALICE! THE CURRENT DATE AND TIME IS YYYY-MM-DD.\"  \n",
    "      |  \n",
    "      v  \n",
    "exclamation_runnable → \"HELLO, ALICE! THE CURRENT DATE AND TIME IS YYYY-MM-DD.!\"\n"
   ]
  },
  {
   "cell_type": "code",
   "execution_count": 4,
   "metadata": {},
   "outputs": [
    {
     "name": "stdout",
     "output_type": "stream",
     "text": [
      "first=RunnableLambda(lambda x: greet(x)) middle=[RunnableLambda(lambda x: append_datetime(x)), RunnableLambda(lambda x: to_uppercase(x))] last=RunnableLambda(lambda x: add_exclamation(x))\n",
      "HELLO, ALICE! THE CURRENT DATE AND TIME IS 2024-12-26.!\n"
     ]
    }
   ],
   "source": [
    "# Example-4 : Runnable Lambda and Runnable Sequence\n",
    "from datetime import datetime\n",
    "from langchain_core.runnables import RunnableLambda, RunnableSequence\n",
    "# Define the transformations as simple functions\n",
    "def greet(name):\n",
    "   return f\"Hello, {name}!\"\n",
    "\n",
    "def append_datetime(text):\n",
    "   current_datetime = datetime.now().strftime(\"%Y-%m-%d\")\n",
    "   return f\"{text} The current date and time is {current_datetime}.\"\n",
    "\n",
    "def to_uppercase(text):\n",
    "   return text.upper()\n",
    "\n",
    "def add_exclamation(text):\n",
    "   return f\"{text}!\"\n",
    "\n",
    "# Wrap the functions in RunnableWrapper\n",
    "greet_runnable = RunnableLambda(lambda x: greet(x))\n",
    "datetime_runnable = RunnableLambda(lambda x: append_datetime(x))\n",
    "uppercase_runnable = RunnableLambda(lambda x: to_uppercase(x))\n",
    "exclamation_runnable = RunnableLambda(lambda x: add_exclamation(x))\n",
    "\n",
    "##########################  # <<<<<< Either  >>>>>> #\n",
    "\n",
    "# Create a RunnableSequence with the wrapped runnables\n",
    "# chain = RunnableSequence(\n",
    "#    first=greet_runnable,\n",
    "#    middle=[datetime_runnable, uppercase_runnable],\n",
    "#    last=exclamation_runnable,\n",
    "# )\n",
    "\n",
    "#########################   <<<<  OR    >>>>\n",
    "\n",
    "\n",
    "# # Create a RunnableSequence with the wrapped runnables\n",
    "# chain = RunnableSequence(\n",
    "#  greet_runnable,\n",
    "#  datetime_runnable,\n",
    "#  uppercase_runnable,\n",
    "#  exclamation_runnable,\n",
    "# )\n",
    "\n",
    "#########################   <<<<  OR    >>>>\n",
    "\n",
    "chain = greet_runnable | datetime_runnable | uppercase_runnable | exclamation_runnable\n",
    "print(chain)\n",
    "# Apply the chain to some input data\n",
    "input_data = \"Alice\"\n",
    "result = chain.invoke(input_data)\n",
    "print(result)"
   ]
  },
  {
   "cell_type": "markdown",
   "metadata": {},
   "source": [
    "#### RunnableParallel\n",
    "* We will use RunnableParallel() for running tasks in parallel.\n",
    "* This is probably the most important and most useful Runnable from LangChain.\n",
    "* In the following chain, RunnableParallel is going to run these two tasks in parallel:\n",
    "    * operation_a will use RunnablePassthrough.\n",
    "    * operation_b will use RunnableLambda with the russian_lastname function.\n",
    "#### Important: the syntax of RunnableParallel can have several variations.\n",
    "\n",
    "When composing a `RunnableParallel` with another `Runnable`, you do not need to wrap it up in the `RunnableParallel` class. Inside a chain, the next three syntaxes are equivalent:\n",
    "\n",
    "1. `RunnableParallel({\"context\": retriever, \"question\": RunnablePassthrough()})`\n",
    "2. `RunnableParallel(context=retriever, question=RunnablePassthrough())`\n",
    "3. `{\"context\": retriever, \"question\": RunnablePassthrough()}`\n",
    "\n",
    "#### Basic of itemgetter \n",
    "\n",
    "```python\n",
    "from operator import itemgetter\n",
    "# Step 1: Prepare the \"hidden function\"\n",
    "get_question = itemgetter(\"question\")\n",
    "# Step 2: Call the hidden function by passing the dictionary\n",
    "result = get_question({\"question\": \"What is Python?\", \"language\": \"English\"})\n",
    "print(result)  # Output: \"What is Python?\"\n",
    "\n",
    "# Some more points about the `itemgetter`:\n",
    "\n",
    "# 1. `Essentially setting up the itemgetter() object or function reference`\n",
    "# 2. `Here we are invoking it by passing the dictionary`\n"
   ]
  },
  {
   "cell_type": "code",
   "execution_count": 5,
   "metadata": {},
   "outputs": [
    {
     "name": "stdout",
     "output_type": "stream",
     "text": [
      "What is Python?\n"
     ]
    }
   ],
   "source": [
    "from operator import itemgetter\n",
    "# Step 1: Prepare the \"hidden function\"\n",
    "get_question = itemgetter(\"question\")\n",
    "# Step 2: Call the hidden function by passing the dictionary\n",
    "result = get_question({\"question\": \"What is Python?\", \"language\": \"English\"})\n",
    "print(result)  # Output: \"What is Python?\""
   ]
  },
  {
   "cell_type": "code",
   "execution_count": 6,
   "metadata": {},
   "outputs": [
    {
     "data": {
      "text/plain": [
       "{'operation_a': 'Sharma', 'operation_b': 'Sharmaovich'}"
      ]
     },
     "execution_count": 6,
     "metadata": {},
     "output_type": "execute_result"
    }
   ],
   "source": [
    "# Example-5\n",
    "from langchain_core.runnables import RunnableParallel\n",
    "\n",
    "chain = RunnableParallel(\n",
    "    {\n",
    "        \"operation_a\": RunnablePassthrough(),\n",
    "        \"operation_b\": RunnableLambda(russian_lastname)\n",
    "    }\n",
    ")\n",
    "chain.invoke(\"Sharma\")"
   ]
  },
  {
   "cell_type": "code",
   "execution_count": 5,
   "metadata": {},
   "outputs": [
    {
     "name": "stdout",
     "output_type": "stream",
     "text": [
      "{'passed': {'num': 1}, 'modified': 2}\n"
     ]
    }
   ],
   "source": [
    "# Example-6\n",
    "from langchain_core.runnables import RunnableParallel, RunnablePassthrough\n",
    "\n",
    "# Define a parallel runnable , Here parallel input applied \n",
    "runnable = RunnableParallel(\n",
    "    passed=RunnablePassthrough(),  # This will pass the input through unchanged\n",
    "    modified=lambda x: x[\"num\"] + 1,  # This will modify the input\n",
    ")\n",
    "\n",
    "# Invoke the runnable with a dictionary input\n",
    "output = runnable.invoke({\"num\": 1})\n",
    "\n",
    "# Print the output\n",
    "print(output)\n"
   ]
  },
  {
   "cell_type": "markdown",
   "metadata": {},
   "source": [
    "# Flow of Execution\n",
    "\n",
    "1. **Import Required Libraries:**\n",
    "   - Import `RunnableParallel` and `RunnablePassthrough` from `langchain_core.runnables`.\n",
    "\n",
    "2. **Define a Parallel Runnable:**\n",
    "   - Create an instance of `RunnableParallel` named `runnable`:\n",
    "     - **`passed`**: Set to `RunnablePassthrough()`, which will pass the input through unchanged.\n",
    "     - **`modified`**: A lambda function that takes an input dictionary and returns the value of `\"num\"` incremented by `1`.\n",
    "\n",
    "3. **Invoke the Runnable:**\n",
    "   - Call the `invoke` method on `runnable` with the input dictionary `{\"num\": 1}`.\n",
    "   - This will pass the input through unchanged and also modify it by adding `1` to the value of `\"num\"`.\n",
    "\n",
    "4. **Output:**\n",
    "   - The `invoke` method returns a dictionary containing both:\n",
    "     - The original input under the key `\"passed\"`.\n",
    "     - The modified value under the key `\"modified\"`.\n",
    "   - For the input `{\"num\": 1}`, the output will be:\n",
    "     ```python\n",
    "     {\n",
    "         \"passed\": {\"num\": 1},\n",
    "         \"modified\": 2\n",
    "     }\n",
    "     ```\n",
    "\n",
    "5. **Print the Output:**\n",
    "   - Print the output to the console to see the results.\n"
   ]
  },
  {
   "cell_type": "code",
   "execution_count": null,
   "metadata": {},
   "outputs": [],
   "source": []
  },
  {
   "cell_type": "code",
   "execution_count": null,
   "metadata": {},
   "outputs": [],
   "source": []
  },
  {
   "cell_type": "code",
   "execution_count": null,
   "metadata": {},
   "outputs": [],
   "source": []
  }
 ],
 "metadata": {
  "kernelspec": {
   "display_name": "Lvenv",
   "language": "python",
   "name": "python3"
  },
  "language_info": {
   "codemirror_mode": {
    "name": "ipython",
    "version": 3
   },
   "file_extension": ".py",
   "mimetype": "text/x-python",
   "name": "python",
   "nbconvert_exporter": "python",
   "pygments_lexer": "ipython3",
   "version": "3.11.5"
  }
 },
 "nbformat": 4,
 "nbformat_minor": 2
}
