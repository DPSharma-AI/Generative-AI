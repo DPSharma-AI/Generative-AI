{
 "cells": [
  {
   "cell_type": "markdown",
   "metadata": {},
   "source": [
    "#### Making Class Instances Behave Like Functions Using __call__():\n",
    "\n",
    "- In Python, classes can be designed such that their instances can be called like regular functions. This is achieved by implementing the special method __call__() in the class. When you call an instance of the class, Python internally calls the __call__() method, passing any arguments given to the instance as if it were a function.\n",
    "\n",
    "- In LangChain, the __call__() method can be particularly useful when you're working with chains of functions or objects, allowing you to compose objects or operations seamlessly. When dealing with chains in LangChain, you'll often need to call objects (or components) in a sequence, making the __call__() method a useful tool for implementing behavior that resembles function calls."
   ]
  },
  {
   "cell_type": "code",
   "execution_count": null,
   "metadata": {},
   "outputs": [],
   "source": [
    "# Function __call__() , Example for making the instance of a class behave like a function\n",
    "class Adder:\n",
    "    def __init__(self, number):\n",
    "        self.number = number\n",
    "\n",
    "    def __call__(self, other_number):\n",
    "        return self.number + other_number\n",
    "\n",
    "# Create an instance of Adder\n",
    "add_five = Adder(5) # intialize the  instance variable with constructor\n",
    "# Now you can call it like a function\n",
    "result = add_five(3)  # This will return 8 , Here , Indirectly calling __call__(),  here self have 5 value and other will have 3 value equivalent to \n",
    "## add_five.number =self.number=5, also other=3\n",
    "print(result)  # Output: 8"
   ]
  },
  {
   "cell_type": "markdown",
   "metadata": {},
   "source": [
    "### How It Works:\n",
    "\n",
    "- The `Adder` class has a constructor `__init__()` that initializes the instance with a number (`self.number`).\n",
    "- The `__call__()` method is defined in the `Adder` class. This method takes an argument `other_number`, which will be the number you pass when you call the object (like a function).\n",
    "- In the `add_five(3)` call, Python internally calls `add_five.__call__(3)`, where:\n",
    "  - `self.number` is `5` (from `Adder(5)`).\n",
    "  - `other_number` is `3` (the argument passed during the function call).\n",
    "- The result is `5 + 3 = 8`.\n"
   ]
  },
  {
   "cell_type": "code",
   "execution_count": null,
   "metadata": {},
   "outputs": [],
   "source": [
    "class Runnable:\n",
    "    def __init__(self, func):\n",
    "        self.func = func\n",
    "\n",
    "    # Operator overloading\n",
    "    def __or__(self, other):\n",
    "        print('or')\n",
    "        def chained_func(*args, **kwargs):\n",
    "            # this is nested function in which we create chain of funtion\n",
    "            #here the other function will consume output on this first function\n",
    "            #upon which we call the or operator first element\n",
    "            print(\"Inside the chained function\")\n",
    "            return other(self.func(*args, **kwargs))\n",
    "        print('chained func end')\n",
    "        return Runnable(chained_func)\n",
    "    # The __call__() function implementation , make an instance of a class behave like a function\n",
    "    def __call__(self, *args, **kwargs):\n",
    "        return self.func(*args, **kwargs)"
   ]
  },
  {
   "cell_type": "code",
   "execution_count": null,
   "metadata": {},
   "outputs": [],
   "source": [
    "#Let's implement this to take the value 3, add 5\n",
    "\n",
    "def double(x):\n",
    "  return 2 * x\n",
    "\n",
    "def add_one(x):\n",
    "  return x + 1\n",
    "\n",
    "# wrap the functions with Runnable\n",
    "runnnable_double = Runnable(double) # Here we are using the object of Runnable class and assigning the reference of double function into instance variable func ie  runnable_duble.func= double reference\n",
    "runnable_add_one = Runnable(add_one) # Here we are using the object of Runnable class and assigning the reference of add function into instance variable func ie  runnable_add_one.func= add_one reference \n",
    "                                     # runnable_add_one.func= add_one reference\n",
    "\n",
    "chain = runnnable_double.__or__(runnable_add_one)   # it will return the refernce of the internal function chained_func [Which is the internal function] and this call for runnnable_double\n",
    "#  consider the  other(self.func(*args, **kwargs)) --->>   self.func will replaced with double as this call belong to the object runnnable_double .\n",
    "print('chain type:', type(chain))\n",
    "chain(5)  # should return 11\n",
    "print(chain(5))\n",
    "#chain the runnable functions together\n",
    "double_then_add_one =  runnnable_double |  runnable_add_one  \n",
    "print('double_then_add_one:', type(double_then_add_one))\n",
    "#invoke the chainLCEL\n",
    "result = double_then_add_one(5) \n",
    "print(result) \n"
   ]
  },
  {
   "cell_type": "markdown",
   "metadata": {},
   "source": [
    "### Three Runnable Instances:\n",
    "- **`runnnable_double`**: wraps the `double` function.\n",
    "- **`runnable_add_one`**: wraps the `add_one` function.\n",
    "- **`chain`**: wraps the `chained_func`, which combines `runnnable_double` and `runnable_add_one`.\n",
    "- The __or__ method is used to overload the pipe (|) operator to chain functions.\n",
    "- The __call__ method allows instances of Runnable to be called like functions.\n",
    "\n",
    "---\n",
    "\n",
    "### What Happens When `chain(5)` is Called?\n",
    "\n",
    "When you call `chain(5)`, this triggers the `__call__` method of the `Runnable` class. Here's the flow:\n",
    "\n",
    "1. `chain` wraps the `chained_func`, so `chain(5)` calls `chained_func(5)`.\n",
    "\n",
    "---\n",
    "\n",
    "### Inside `chained_func`:\n",
    "\n",
    "The following code snippet is executed:\n",
    "\n",
    "```python\n",
    "def chained_func(*args, **kwargs):\n",
    "    return other(self.func(*args, **kwargs))\n",
    "```\n",
    "\n",
    "- **`self`** refers to the original object that invoked the `__or__` method, i.e., `runnnable_double`.\n",
    "- **`self.func`** is the `double` function (because `runnnable_double.func = double`).\n",
    "- So, `self.func(5)` calls `double(5)`, returning `10`.\n",
    "\n",
    "---\n",
    "\n",
    "### Why Does `self` Refer to `runnnable_double`?\n",
    "\n",
    "This happens because `chained_func` was defined inside the `__or__` method of `runnnable_double`. When `chained_func` runs, it \"remembers\" the context of `self` where it was created. In Python, this is called a **closure**.\n",
    "\n",
    "1. **`chained_func` \"closes over\" `self`**, which was `runnnable_double` at the time of its creation.\n",
    "2. This is why, even though `chain` is a new `Runnable` object, the `self.func` inside `chained_func` still refers to the `func` attribute of `runnnable_double`.\n",
    "\n",
    "---\n",
    "\n",
    "### The Result of `double(5)`:\n",
    "\n",
    "The result of `double(5)` (i.e., `10`) is passed to `other`:\n",
    "\n",
    "- **`other`** is `runnable_add_one`, which wraps the `add_one` function.\n",
    "- `other(10)` calls `runnable_add_one.__call__(10)`, which executes `add_one(10)` and returns `11`.\n"
   ]
  },
  {
   "cell_type": "markdown",
   "metadata": {},
   "source": []
  },
  {
   "cell_type": "markdown",
   "metadata": {},
   "source": [
    "Three Runnable Instances:\n",
    "\n",
    "    - runnnable_double: wraps double function.\n",
    "    - runnable_add_one: wraps add_one function.\n",
    "    - chain: wraps the chained_func, which combines runnnable_double and runnable_add_one.\n",
    "\n",
    "What Happens When chain(5) is Called?\n",
    "    - When you call chain(5), this triggers the __call__ method of the Runnable class. Here's the flow:\n",
    "\n",
    "    - chain wraps the chained_func, so chain(5) calls chained_func(5).\n",
    "\n",
    "Inside chained_func: the folowing code snippets\n",
    "    - def chained_func(*args, **kwargs):\n",
    "        return other(self.func(*args, **kwargs))\n",
    "\n",
    "    - self refers to the original object that invoked the __or__ method, i.e., runnnable_double.\n",
    "      self.func is the double function (because runnnable_double.func = double).\n",
    "      So, self.func(5) calls double(5), returning 10.\n",
    "\n",
    "The result of double(5) (i.e., 10) is passed to other:\n",
    "\n",
    "    - other is runnable_add_one, which wraps the add_one function.\n",
    "      other(10) calls runnable_add_one.__call__(10), which executes add_one(10) and returns 11.\n",
    "\n",
    "Why Does self Refer to runnnable_double?\n",
    "\n",
    "    - his happens because chained_func was defined inside the __or__ method of runnnable_double. When chained_func runs, it \"remembers\" the context of self where it was created. In Python, this is called a closure.\n",
    "\n",
    "    - chained_func \"closes over\" self, which was runnnable_double at the time of its creation.\n",
    "      This is why, even though chain is a new Runnable object, the self.func inside chained_func still refers to the func attribute of runnnable_double.\n",
    "\n"
   ]
  },
  {
   "cell_type": "code",
   "execution_count": 1,
   "metadata": {},
   "outputs": [
    {
     "name": "stdout",
     "output_type": "stream",
     "text": [
      "<__main__.CustomBool object at 0x00000251BFD11CD0>\n",
      "<__main__.CustomBool object at 0x00000251BFD12350>\n",
      "<__main__.CustomBool object at 0x00000251BFD12190>\n"
     ]
    }
   ],
   "source": [
    "class CustomBool:\n",
    "    def __init__(self, value):\n",
    "        self.value = value\n",
    "\n",
    "    def __or__(self, other):\n",
    "        # Simulate the 'or' operator\n",
    "        return CustomBool(self.value or other.value)\n",
    "\n",
    "    def __repr__(self):\n",
    "        return f\"CustomBool({self.value})\"\n",
    "\n",
    "# Example usage\n",
    "a = CustomBool(True)\n",
    "b = CustomBool(False)\n",
    "c = CustomBool(True)\n",
    "\n",
    "result1 = a | b  # Should simulate 'True or False'\n",
    "result2 = b | b  # Should simulate 'False or False'\n",
    "result3 = a | c  # Should simulate 'True or True'\n",
    "\n",
    "print(result1)  # Output: CustomBool(True)\n",
    "print(result2)  # Output: CustomBool(False)\n",
    "print(result3)  # Output: CustomBool(True)"
   ]
  },
  {
   "cell_type": "code",
   "execution_count": null,
   "metadata": {},
   "outputs": [],
   "source": []
  }
 ],
 "metadata": {
  "kernelspec": {
   "display_name": "Lvenv",
   "language": "python",
   "name": "python3"
  },
  "language_info": {
   "codemirror_mode": {
    "name": "ipython",
    "version": 3
   },
   "file_extension": ".py",
   "mimetype": "text/x-python",
   "name": "python",
   "nbconvert_exporter": "python",
   "pygments_lexer": "ipython3",
   "version": "3.11.5"
  }
 },
 "nbformat": 4,
 "nbformat_minor": 2
}
