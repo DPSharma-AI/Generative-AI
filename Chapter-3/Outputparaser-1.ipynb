{
 "cells": [
  {
   "cell_type": "markdown",
   "metadata": {},
   "source": [
    "#### OutPut Parser\n",
    "- The primary purpose of an Output Parser is to take unstructured text responses from a language model and convert them into structured data types, such as dictionaries, lists, or custom objects.\n",
    "- Every Output Parser object has two main function:\n",
    "    - `parse`: This function processes the unstructured text response from the language model and returns it as structured data (e.g., JSON, dictionary, etc.).\n",
    "    - `get_format_instructions()` : This function provides guidelines or instructions on how the output should be formatted.\n",
    "- Some popular OutputParser examples are :\n",
    "    - `JsonOutputParser`: This parser converts the output into a JSON format.\n",
    "    - `XmlOutputParser`: This parser converts the output into an XML format.\n",
    "    - `DictOutputParser`: This parser converts the output into a dictionary format.\n",
    "    - `ListOutputParser`: This parser converts the output into a list format.\n",
    "    - `CommaSeparatedListOutputParser` : This parser takes a string of comma-separated values and converts it into a list format, useful for processing simple, delimited text.\n",
    "    - `StrOutputParser` : This parser returns the output as a plain string\n",
    "- Some most frequently used parser examplea as given below:\n",
    "    - `StructuredOutputParser`: A flexible parser used when outputs need to adhere to a specific structure, often paired with schema definitions (e.g., pydantic models).\n",
    "    - `RegexOutputParser`: Parses outputs based on a regular expression pattern. Useful for extracting specific data points from text.\n",
    "    - `BooleanOutputParser`: Converts the response into a boolean value, typically based on specific keywords or conditions in the response.\n",
    "    - `NumericOutputParser`: Extracts and returns numeric values from the output, such as integers or floats."
   ]
  },
  {
   "cell_type": "code",
   "execution_count": 1,
   "metadata": {},
   "outputs": [],
   "source": [
    "import os\n",
    "from dotenv import find_dotenv, load_dotenv\n",
    "_=load_dotenv(find_dotenv())\n",
    "openai_api_key = os.environ[\"OPENAI_API_KEY\"]\n",
    "google_api_key=os.environ[\"GOOGLE_API_KEY\"]\n",
    "cerebras_api_key=os.environ[\"CEREBRAS_API_KEY\"]\n",
    "groq_api_key=os.environ[\"GROQ_API_KEY\"]"
   ]
  },
  {
   "cell_type": "markdown",
   "metadata": {},
   "source": [
    "##### Checking the functionality of CommaSeparatedListOutputParser"
   ]
  },
  {
   "cell_type": "code",
   "execution_count": 2,
   "metadata": {},
   "outputs": [
    {
     "name": "stdout",
     "output_type": "stream",
     "text": [
      "Your response should be a list of comma separated values, eg: `foo, bar, baz` or `foo,bar,baz`\n"
     ]
    }
   ],
   "source": [
    "from langchain_core.output_parsers import CommaSeparatedListOutputParser\n",
    "# Createthe object of OutputParser\n",
    "output_parser = CommaSeparatedListOutputParser()\n",
    "# In the below example, we are parsing the output of the model which is comma separated strings into lists of strings.\n",
    "# Here , parse method has been used.\n",
    "##########<<parser function example of Output parser>>################\n",
    "reply = \"one, two, three\"\n",
    "output_parser.parse(\"one, two, three\")  ##  Opuput will be like : ['one', 'two', 'three']\n",
    "##########<<Getting the standard formate instructions attached with 'CommaSeparatedListOutputParser'>>################\n",
    "format_instructions = output_parser.get_format_instructions()\n",
    "print(format_instructions)"
   ]
  },
  {
   "cell_type": "code",
   "execution_count": 4,
   "metadata": {},
   "outputs": [
    {
     "data": {
      "text/plain": [
       "'Loyal, Playful, Protective, Trainable, Social\\n'"
      ]
     },
     "execution_count": 4,
     "metadata": {},
     "output_type": "execute_result"
    }
   ],
   "source": [
    "#### Simple But Complete Example:\n",
    "from langchain_core.prompts import ChatPromptTemplate, HumanMessagePromptTemplate\n",
    "from langchain_google_genai import ChatGoogleGenerativeAI\n",
    "from langchain_core.output_parsers import CommaSeparatedListOutputParser\n",
    "model = ChatGoogleGenerativeAI(model=\"gemini-1.5-pro\",google_api_key=google_api_key)\n",
    "human_template = '{request} {format_instructions}'\n",
    "human_prompt = HumanMessagePromptTemplate.from_template(human_template)\n",
    "chat_prompt = ChatPromptTemplate.from_messages([human_prompt])\n",
    "request = chat_prompt.format_prompt(request=\"give me 5 characteristics of dogs\",\n",
    "          format_instructions = output_parser.get_format_instructions())\n",
    "result = model.invoke(request)\n",
    "result.content "
   ]
  },
  {
   "cell_type": "code",
   "execution_count": 7,
   "metadata": {},
   "outputs": [
    {
     "name": "stdout",
     "output_type": "stream",
     "text": [
      "chain value: first=ChatPromptTemplate(input_variables=['input'], input_types={}, partial_variables={}, messages=[SystemMessagePromptTemplate(prompt=PromptTemplate(input_variables=[], input_types={}, partial_variables={}, template='Tell me a joke about the following subject'), additional_kwargs={}), HumanMessagePromptTemplate(prompt=PromptTemplate(input_variables=['input'], input_types={}, partial_variables={}, template='{input}'), additional_kwargs={})]) middle=[ChatGoogleGenerativeAI(model='models/gemini-1.5-pro', google_api_key=SecretStr('**********'), client=<google.ai.generativelanguage_v1beta.services.generative_service.client.GenerativeServiceClient object at 0x000001A5C5A85650>, async_client=<google.ai.generativelanguage_v1beta.services.generative_service.async_client.GenerativeServiceAsyncClient object at 0x000001A5C5A41290>, default_metadata=())] last=StrOutputParser()\n",
      "<class 'str'>\n"
     ]
    }
   ],
   "source": [
    "#### StringOutput Parser \n",
    "from dotenv import load_dotenv\n",
    "load_dotenv()\n",
    "from langchain_google_genai import ChatGoogleGenerativeAI\n",
    "from langchain_core.prompts import ChatPromptTemplate\n",
    "from langchain_core.output_parsers import StrOutputParser\n",
    "import os\n",
    "api_key = os.getenv('GOOGLE_API_KEY')\n",
    "model = ChatGoogleGenerativeAI(model=\"gemini-1.5-pro\",api_key=api_key)\n",
    "def call_string_output_parser():\n",
    "    prompt = ChatPromptTemplate.from_messages([\n",
    "        (\"system\", \"Tell me a joke about the following subject\"),\n",
    "        (\"human\", \"{input}\")\n",
    "    ])\n",
    "\n",
    "    parser = StrOutputParser()\n",
    "\n",
    "    chain = prompt | model | parser\n",
    "    print(\"chain value:\",chain)\n",
    "\n",
    "    return chain.invoke({\n",
    "        \"input\": \"dog\"\n",
    "    })\n",
    "print(type(call_string_output_parser()))"
   ]
  },
  {
   "cell_type": "code",
   "execution_count": 8,
   "metadata": {},
   "outputs": [
    {
     "name": "stdout",
     "output_type": "stream",
     "text": [
      "['joyful', 'merry', 'cheerful', 'delighted', 'pleased', 'content', 'ecstatic', 'jubilant', 'elated', 'thrilled']\n"
     ]
    }
   ],
   "source": [
    "# CommaSeparatedListOutputParser\n",
    "from dotenv import load_dotenv\n",
    "load_dotenv()\n",
    "from langchain_core.prompts import ChatPromptTemplate\n",
    "from langchain_core.output_parsers import CommaSeparatedListOutputParser\n",
    "from langchain_google_genai import ChatGoogleGenerativeAI\n",
    "import os\n",
    "api_key = os.getenv('GOOGLE_API_KEY')\n",
    "model = ChatGoogleGenerativeAI(model=\"gemini-1.5-pro\",api_key=api_key)\n",
    "\n",
    "def call_list_output_parser():\n",
    "    prompt = ChatPromptTemplate.from_messages([\n",
    "        (\"system\", \"Generate a list of 10 synonyms for the following word. Return the results as a comma seperated list.\"),\n",
    "        (\"human\", \"{input}\")\n",
    "    ])\n",
    "\n",
    "    parser = CommaSeparatedListOutputParser()\n",
    "    \n",
    "    chain = prompt | model | parser\n",
    "\n",
    "    return chain.invoke({\n",
    "        \"input\": \"happy\"\n",
    "    })\n",
    "print(call_list_output_parser())"
   ]
  },
  {
   "cell_type": "code",
   "execution_count": null,
   "metadata": {},
   "outputs": [],
   "source": []
  }
 ],
 "metadata": {
  "kernelspec": {
   "display_name": "Lvenv",
   "language": "python",
   "name": "python3"
  },
  "language_info": {
   "codemirror_mode": {
    "name": "ipython",
    "version": 3
   },
   "file_extension": ".py",
   "mimetype": "text/x-python",
   "name": "python",
   "nbconvert_exporter": "python",
   "pygments_lexer": "ipython3",
   "version": "3.11.5"
  }
 },
 "nbformat": 4,
 "nbformat_minor": 2
}
