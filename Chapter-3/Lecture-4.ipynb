{
 "cells": [
  {
   "cell_type": "markdown",
   "metadata": {},
   "source": [
    "#### Using Pydantic Class ---> Structuring the LLM Output\n",
    "\n",
    "- Pydantic automatically validates the data, ensuring that it conforms to the expected types and constraints.\n",
    "\n",
    "- The key advantage of using Pydantic is that the model-generated output will be validated. Pydantic will raise an error if any required fields are missing or if any fields are of the wrong type.\n",
    "\n",
    "**Summary :** By using a Pydantic class, you're essentially telling the LLM: \n",
    "- **\"Hey, whatever output you generate, make sure it conforms to the structure and format I’ve defined in this Pydantic class.\"**\n",
    "\n",
    "#### Key Takeaway\n",
    "- The LLM generates data, but Pydantic ensures it’s **filtered** and **reshaped** to match your requirements.\n",
    "- This process effectively transforms raw, unstructured data into something clean, usable, and reliable.\n",
    "\n",
    "#### Why is this Useful?\n",
    "\n",
    "1. **Validation**:  \n",
    "   Pydantic automatically validates the data. If the LLM or any other system gives invalid data, Pydantic will raise clear errors.\n",
    "\n",
    "2. **Formatting**:  \n",
    "   Pydantic ensures the output is in a specific format. This is especially useful when working with APIs or structured data from LLMs.\n",
    "\n",
    "3. **Error Prevention**:  \n",
    "   By catching issues early, you avoid bugs in later parts of your program.\n"
   ]
  },
  {
   "cell_type": "markdown",
   "metadata": {},
   "source": []
  },
  {
   "cell_type": "markdown",
   "metadata": {},
   "source": [
    "##### Ex-1:"
   ]
  },
  {
   "cell_type": "code",
   "execution_count": 1,
   "metadata": {},
   "outputs": [],
   "source": [
    "from pydantic import BaseModel\n",
    "from typing import List, Optional\n",
    "\n",
    "class User(BaseModel):\n",
    "    id: int  # User ID must be an integer\n",
    "    name: str  # Name must be a string\n",
    "    age: Optional[int] = None  # Age is optional but must be an integer if provided\n",
    "    skills: List[str]  # Skills must be a list of strings\n",
    "\n",
    "# Correctly formatted data\n",
    "user = User(id=1, name=\"Praveen\", age=25, skills=[\"Python\", \"Django\"])\n",
    "print(user)\n",
    "\n",
    "# Incorrectly formatted data (will raise a validation error)\n",
    "invalid_user = User(id=\"abc\", name=\"John\", age=\"twenty\", skills=[123])"
   ]
  },
  {
   "cell_type": "markdown",
   "metadata": {},
   "source": [
    "##### Ex-2:\n",
    "- In the blow example '**from typing import Optional**' is nothing but the short hand of '**Optional[X] == Union[X, None]**' i.e the value can be either of type X (e.g., str, int) or None.\n",
    "\n",
    "#### Step 1: LLM Generates the Joke\n",
    "- The LLM first creates a joke based on your prompt (e.g., \"Tell me a joke\").\n",
    "- At this stage, the joke is just raw output—no rules or structure are applied yet.\n",
    "\n",
    "#### Step 2: Pydantic Class Kicks In\n",
    "- After the joke is generated, the Pydantic class checks if the output matches the structure you defined (like `setup`, `punchline`, and optional `rating` with their respective data types).\n",
    "- If something is missing or doesn’t fit the structure (e.g., a number in the `punchline`), it raises an error or forces the data into the structured format.\n",
    "\n",
    "#### Final Result: A Structured Joke\n",
    "- Once the LLM’s output is validated and reshaped by the Pydantic class, you get a clean, reliable joke that fits the predefined structure.\n"
   ]
  },
  {
   "cell_type": "code",
   "execution_count": null,
   "metadata": {},
   "outputs": [],
   "source": [
    "from langchain_openai import ChatOpenAI\n",
    "\n",
    "llm = ChatOpenAI(model=\"gpt-4o-mini\")\n",
    "from typing import Optional\n",
    "from pydantic import BaseModel, Field\n",
    "\n",
    "class Joke(BaseModel):\n",
    "    \"\"\"Joke to tell user.\"\"\"\n",
    "\n",
    "    setup: str = Field(description=\"The setup of the joke\")\n",
    "    punchline: str = Field(description=\"The punchline to the joke\")\n",
    "    rating: Optional[int] = Field(\n",
    "        default=None, description=\"How funny the joke is, from 1 to 10\"\n",
    "    )\n",
    "\n",
    "structured_llm = llm.with_structured_output(Joke)\n",
    "\n",
    "structured_llm.invoke(\"Tell me a Joke\")"
   ]
  },
  {
   "cell_type": "code",
   "execution_count": null,
   "metadata": {},
   "outputs": [],
   "source": [
    "#### Customer Object type --USER REQUIREMENT BASED\n",
    "from dotenv import load_dotenv\n",
    "load_dotenv()\n",
    "from langchain_google_genai import ChatGoogleGenerativeAI\n",
    "from langchain_core.prompts import ChatPromptTemplate\n",
    "from langchain_core.output_parsers import JsonOutputParser\n",
    "from pydantic import BaseModel, Field \n",
    "import os\n",
    "api_key = os.getenv('GOOGLE_API_KEY')\n",
    "model = ChatGoogleGenerativeAI(model=\"gemini-1.5-pro\",api_key=api_key)\n",
    "\n",
    "def call_json_output_parser():\n",
    "    prompt = ChatPromptTemplate.from_messages([\n",
    "        (\"system\", \"Extract information from the following phrase.\\nFormatting Instructions: {format_instructions}\"),\n",
    "        (\"human\", \"{phrase}\")\n",
    "    ])\n",
    "\n",
    "    class Person(BaseModel):\n",
    "        recipe: str = Field(description=\"the name of the recipe\")\n",
    "        ingredients: list = Field(description=\"ingredients\")\n",
    "        \n",
    "\n",
    "    parser = JsonOutputParser(pydantic_object=Person)\n",
    "    # print(parser.get_format_instructions())\n",
    "    chain = prompt | model | parser\n",
    "    # print(\"Parser function\",parser.get_format_instructions())\n",
    "    return chain.invoke({\n",
    "        \"phrase\": \"The ingredients for a Margherita pizza are tomatoes, onions, cheese, basil\",\n",
    "        \"format_instructions\": parser.get_format_instructions()\n",
    "    })\n",
    "print(call_json_output_parser())"
   ]
  },
  {
   "cell_type": "code",
   "execution_count": null,
   "metadata": {},
   "outputs": [],
   "source": []
  }
 ],
 "metadata": {
  "kernelspec": {
   "display_name": "Lvenv",
   "language": "python",
   "name": "python3"
  },
  "language_info": {
   "codemirror_mode": {
    "name": "ipython",
    "version": 3
   },
   "file_extension": ".py",
   "mimetype": "text/x-python",
   "name": "python",
   "nbconvert_exporter": "python",
   "pygments_lexer": "ipython3",
   "version": "3.11.5"
  }
 },
 "nbformat": 4,
 "nbformat_minor": 2
}
